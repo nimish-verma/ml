{
 "cells": [
  {
   "cell_type": "code",
   "execution_count": 1,
   "id": "599ab93a",
   "metadata": {
    "_cell_guid": "b1076dfc-b9ad-4769-8c92-a6c4dae69d19",
    "_uuid": "8f2839f25d086af736a60e9eeb907d3b93b6e0e5",
    "execution": {
     "iopub.execute_input": "2025-03-18T04:21:42.390067Z",
     "iopub.status.busy": "2025-03-18T04:21:42.389613Z",
     "iopub.status.idle": "2025-03-18T04:21:43.326999Z",
     "shell.execute_reply": "2025-03-18T04:21:43.325809Z"
    },
    "papermill": {
     "duration": 0.945525,
     "end_time": "2025-03-18T04:21:43.329001",
     "exception": false,
     "start_time": "2025-03-18T04:21:42.383476",
     "status": "completed"
    },
    "tags": []
   },
   "outputs": [],
   "source": [
    "# This Python 3 environment comes with many helpful analytics libraries installed\n",
    "# It is defined by the kaggle/python Docker image: https://github.com/kaggle/docker-python\n",
    "# For example, here's several helpful packages to load\n",
    "\n",
    "import numpy as np # linear algebra\n",
    "import pandas as pd # data processing, CSV file I/O (e.g. pd.read_csv)\n",
    "import matplotlib.pyplot as plt\n",
    "# Input data files are available in the read-only \"../input/\" directory\n",
    "# For example, running this (by clicking run or pressing Shift+Enter) will list all files under the input directory\n",
    "\n",
    "# import os\n",
    "# for dirname, _, filenames in os.walk('/kaggle/input'):\n",
    "#     for filename in filenames:\n",
    "#         print(os.path.join(dirname, filename))\n",
    "\n",
    "# You can write up to 20GB to the current directory (/kaggle/working/) that gets preserved as output when you create a version using \"Save & Run All\" \n",
    "# You can also write temporary files to /kaggle/temp/, but they won't be saved outside of the current session"
   ]
  },
  {
   "cell_type": "code",
   "execution_count": 2,
   "id": "6427abb7",
   "metadata": {
    "execution": {
     "iopub.execute_input": "2025-03-18T04:21:43.339392Z",
     "iopub.status.busy": "2025-03-18T04:21:43.338852Z",
     "iopub.status.idle": "2025-03-18T04:21:46.637049Z",
     "shell.execute_reply": "2025-03-18T04:21:46.635907Z"
    },
    "papermill": {
     "duration": 3.305249,
     "end_time": "2025-03-18T04:21:46.639009",
     "exception": false,
     "start_time": "2025-03-18T04:21:43.333760",
     "status": "completed"
    },
    "tags": []
   },
   "outputs": [],
   "source": [
    "data = pd.read_csv('/kaggle/input/digit-recognizer/train.csv')"
   ]
  },
  {
   "cell_type": "code",
   "execution_count": 3,
   "id": "582f435f",
   "metadata": {
    "execution": {
     "iopub.execute_input": "2025-03-18T04:21:46.648889Z",
     "iopub.status.busy": "2025-03-18T04:21:46.648562Z",
     "iopub.status.idle": "2025-03-18T04:21:46.679255Z",
     "shell.execute_reply": "2025-03-18T04:21:46.678110Z"
    },
    "papermill": {
     "duration": 0.037516,
     "end_time": "2025-03-18T04:21:46.681066",
     "exception": false,
     "start_time": "2025-03-18T04:21:46.643550",
     "status": "completed"
    },
    "tags": []
   },
   "outputs": [
    {
     "data": {
      "text/html": [
       "<div>\n",
       "<style scoped>\n",
       "    .dataframe tbody tr th:only-of-type {\n",
       "        vertical-align: middle;\n",
       "    }\n",
       "\n",
       "    .dataframe tbody tr th {\n",
       "        vertical-align: top;\n",
       "    }\n",
       "\n",
       "    .dataframe thead th {\n",
       "        text-align: right;\n",
       "    }\n",
       "</style>\n",
       "<table border=\"1\" class=\"dataframe\">\n",
       "  <thead>\n",
       "    <tr style=\"text-align: right;\">\n",
       "      <th></th>\n",
       "      <th>label</th>\n",
       "      <th>pixel0</th>\n",
       "      <th>pixel1</th>\n",
       "      <th>pixel2</th>\n",
       "      <th>pixel3</th>\n",
       "      <th>pixel4</th>\n",
       "      <th>pixel5</th>\n",
       "      <th>pixel6</th>\n",
       "      <th>pixel7</th>\n",
       "      <th>pixel8</th>\n",
       "      <th>...</th>\n",
       "      <th>pixel774</th>\n",
       "      <th>pixel775</th>\n",
       "      <th>pixel776</th>\n",
       "      <th>pixel777</th>\n",
       "      <th>pixel778</th>\n",
       "      <th>pixel779</th>\n",
       "      <th>pixel780</th>\n",
       "      <th>pixel781</th>\n",
       "      <th>pixel782</th>\n",
       "      <th>pixel783</th>\n",
       "    </tr>\n",
       "  </thead>\n",
       "  <tbody>\n",
       "    <tr>\n",
       "      <th>0</th>\n",
       "      <td>1</td>\n",
       "      <td>0</td>\n",
       "      <td>0</td>\n",
       "      <td>0</td>\n",
       "      <td>0</td>\n",
       "      <td>0</td>\n",
       "      <td>0</td>\n",
       "      <td>0</td>\n",
       "      <td>0</td>\n",
       "      <td>0</td>\n",
       "      <td>...</td>\n",
       "      <td>0</td>\n",
       "      <td>0</td>\n",
       "      <td>0</td>\n",
       "      <td>0</td>\n",
       "      <td>0</td>\n",
       "      <td>0</td>\n",
       "      <td>0</td>\n",
       "      <td>0</td>\n",
       "      <td>0</td>\n",
       "      <td>0</td>\n",
       "    </tr>\n",
       "    <tr>\n",
       "      <th>1</th>\n",
       "      <td>0</td>\n",
       "      <td>0</td>\n",
       "      <td>0</td>\n",
       "      <td>0</td>\n",
       "      <td>0</td>\n",
       "      <td>0</td>\n",
       "      <td>0</td>\n",
       "      <td>0</td>\n",
       "      <td>0</td>\n",
       "      <td>0</td>\n",
       "      <td>...</td>\n",
       "      <td>0</td>\n",
       "      <td>0</td>\n",
       "      <td>0</td>\n",
       "      <td>0</td>\n",
       "      <td>0</td>\n",
       "      <td>0</td>\n",
       "      <td>0</td>\n",
       "      <td>0</td>\n",
       "      <td>0</td>\n",
       "      <td>0</td>\n",
       "    </tr>\n",
       "    <tr>\n",
       "      <th>2</th>\n",
       "      <td>1</td>\n",
       "      <td>0</td>\n",
       "      <td>0</td>\n",
       "      <td>0</td>\n",
       "      <td>0</td>\n",
       "      <td>0</td>\n",
       "      <td>0</td>\n",
       "      <td>0</td>\n",
       "      <td>0</td>\n",
       "      <td>0</td>\n",
       "      <td>...</td>\n",
       "      <td>0</td>\n",
       "      <td>0</td>\n",
       "      <td>0</td>\n",
       "      <td>0</td>\n",
       "      <td>0</td>\n",
       "      <td>0</td>\n",
       "      <td>0</td>\n",
       "      <td>0</td>\n",
       "      <td>0</td>\n",
       "      <td>0</td>\n",
       "    </tr>\n",
       "    <tr>\n",
       "      <th>3</th>\n",
       "      <td>4</td>\n",
       "      <td>0</td>\n",
       "      <td>0</td>\n",
       "      <td>0</td>\n",
       "      <td>0</td>\n",
       "      <td>0</td>\n",
       "      <td>0</td>\n",
       "      <td>0</td>\n",
       "      <td>0</td>\n",
       "      <td>0</td>\n",
       "      <td>...</td>\n",
       "      <td>0</td>\n",
       "      <td>0</td>\n",
       "      <td>0</td>\n",
       "      <td>0</td>\n",
       "      <td>0</td>\n",
       "      <td>0</td>\n",
       "      <td>0</td>\n",
       "      <td>0</td>\n",
       "      <td>0</td>\n",
       "      <td>0</td>\n",
       "    </tr>\n",
       "    <tr>\n",
       "      <th>4</th>\n",
       "      <td>0</td>\n",
       "      <td>0</td>\n",
       "      <td>0</td>\n",
       "      <td>0</td>\n",
       "      <td>0</td>\n",
       "      <td>0</td>\n",
       "      <td>0</td>\n",
       "      <td>0</td>\n",
       "      <td>0</td>\n",
       "      <td>0</td>\n",
       "      <td>...</td>\n",
       "      <td>0</td>\n",
       "      <td>0</td>\n",
       "      <td>0</td>\n",
       "      <td>0</td>\n",
       "      <td>0</td>\n",
       "      <td>0</td>\n",
       "      <td>0</td>\n",
       "      <td>0</td>\n",
       "      <td>0</td>\n",
       "      <td>0</td>\n",
       "    </tr>\n",
       "  </tbody>\n",
       "</table>\n",
       "<p>5 rows × 785 columns</p>\n",
       "</div>"
      ],
      "text/plain": [
       "   label  pixel0  pixel1  pixel2  pixel3  pixel4  pixel5  pixel6  pixel7  \\\n",
       "0      1       0       0       0       0       0       0       0       0   \n",
       "1      0       0       0       0       0       0       0       0       0   \n",
       "2      1       0       0       0       0       0       0       0       0   \n",
       "3      4       0       0       0       0       0       0       0       0   \n",
       "4      0       0       0       0       0       0       0       0       0   \n",
       "\n",
       "   pixel8  ...  pixel774  pixel775  pixel776  pixel777  pixel778  pixel779  \\\n",
       "0       0  ...         0         0         0         0         0         0   \n",
       "1       0  ...         0         0         0         0         0         0   \n",
       "2       0  ...         0         0         0         0         0         0   \n",
       "3       0  ...         0         0         0         0         0         0   \n",
       "4       0  ...         0         0         0         0         0         0   \n",
       "\n",
       "   pixel780  pixel781  pixel782  pixel783  \n",
       "0         0         0         0         0  \n",
       "1         0         0         0         0  \n",
       "2         0         0         0         0  \n",
       "3         0         0         0         0  \n",
       "4         0         0         0         0  \n",
       "\n",
       "[5 rows x 785 columns]"
      ]
     },
     "execution_count": 3,
     "metadata": {},
     "output_type": "execute_result"
    }
   ],
   "source": [
    "data.head()"
   ]
  },
  {
   "cell_type": "code",
   "execution_count": 4,
   "id": "0a068bfc",
   "metadata": {
    "execution": {
     "iopub.execute_input": "2025-03-18T04:21:46.691675Z",
     "iopub.status.busy": "2025-03-18T04:21:46.691336Z",
     "iopub.status.idle": "2025-03-18T04:21:46.714910Z",
     "shell.execute_reply": "2025-03-18T04:21:46.713800Z"
    },
    "papermill": {
     "duration": 0.030941,
     "end_time": "2025-03-18T04:21:46.716710",
     "exception": false,
     "start_time": "2025-03-18T04:21:46.685769",
     "status": "completed"
    },
    "tags": []
   },
   "outputs": [
    {
     "data": {
      "text/html": [
       "<div>\n",
       "<style scoped>\n",
       "    .dataframe tbody tr th:only-of-type {\n",
       "        vertical-align: middle;\n",
       "    }\n",
       "\n",
       "    .dataframe tbody tr th {\n",
       "        vertical-align: top;\n",
       "    }\n",
       "\n",
       "    .dataframe thead th {\n",
       "        text-align: right;\n",
       "    }\n",
       "</style>\n",
       "<table border=\"1\" class=\"dataframe\">\n",
       "  <thead>\n",
       "    <tr style=\"text-align: right;\">\n",
       "      <th></th>\n",
       "      <th>label</th>\n",
       "      <th>pixel0</th>\n",
       "      <th>pixel1</th>\n",
       "      <th>pixel2</th>\n",
       "      <th>pixel3</th>\n",
       "      <th>pixel4</th>\n",
       "      <th>pixel5</th>\n",
       "      <th>pixel6</th>\n",
       "      <th>pixel7</th>\n",
       "      <th>pixel8</th>\n",
       "      <th>...</th>\n",
       "      <th>pixel774</th>\n",
       "      <th>pixel775</th>\n",
       "      <th>pixel776</th>\n",
       "      <th>pixel777</th>\n",
       "      <th>pixel778</th>\n",
       "      <th>pixel779</th>\n",
       "      <th>pixel780</th>\n",
       "      <th>pixel781</th>\n",
       "      <th>pixel782</th>\n",
       "      <th>pixel783</th>\n",
       "    </tr>\n",
       "  </thead>\n",
       "  <tbody>\n",
       "    <tr>\n",
       "      <th>0</th>\n",
       "      <td>1</td>\n",
       "      <td>0</td>\n",
       "      <td>0</td>\n",
       "      <td>0</td>\n",
       "      <td>0</td>\n",
       "      <td>0</td>\n",
       "      <td>0</td>\n",
       "      <td>0</td>\n",
       "      <td>0</td>\n",
       "      <td>0</td>\n",
       "      <td>...</td>\n",
       "      <td>0</td>\n",
       "      <td>0</td>\n",
       "      <td>0</td>\n",
       "      <td>0</td>\n",
       "      <td>0</td>\n",
       "      <td>0</td>\n",
       "      <td>0</td>\n",
       "      <td>0</td>\n",
       "      <td>0</td>\n",
       "      <td>0</td>\n",
       "    </tr>\n",
       "    <tr>\n",
       "      <th>1</th>\n",
       "      <td>0</td>\n",
       "      <td>0</td>\n",
       "      <td>0</td>\n",
       "      <td>0</td>\n",
       "      <td>0</td>\n",
       "      <td>0</td>\n",
       "      <td>0</td>\n",
       "      <td>0</td>\n",
       "      <td>0</td>\n",
       "      <td>0</td>\n",
       "      <td>...</td>\n",
       "      <td>0</td>\n",
       "      <td>0</td>\n",
       "      <td>0</td>\n",
       "      <td>0</td>\n",
       "      <td>0</td>\n",
       "      <td>0</td>\n",
       "      <td>0</td>\n",
       "      <td>0</td>\n",
       "      <td>0</td>\n",
       "      <td>0</td>\n",
       "    </tr>\n",
       "    <tr>\n",
       "      <th>2</th>\n",
       "      <td>1</td>\n",
       "      <td>0</td>\n",
       "      <td>0</td>\n",
       "      <td>0</td>\n",
       "      <td>0</td>\n",
       "      <td>0</td>\n",
       "      <td>0</td>\n",
       "      <td>0</td>\n",
       "      <td>0</td>\n",
       "      <td>0</td>\n",
       "      <td>...</td>\n",
       "      <td>0</td>\n",
       "      <td>0</td>\n",
       "      <td>0</td>\n",
       "      <td>0</td>\n",
       "      <td>0</td>\n",
       "      <td>0</td>\n",
       "      <td>0</td>\n",
       "      <td>0</td>\n",
       "      <td>0</td>\n",
       "      <td>0</td>\n",
       "    </tr>\n",
       "    <tr>\n",
       "      <th>3</th>\n",
       "      <td>4</td>\n",
       "      <td>0</td>\n",
       "      <td>0</td>\n",
       "      <td>0</td>\n",
       "      <td>0</td>\n",
       "      <td>0</td>\n",
       "      <td>0</td>\n",
       "      <td>0</td>\n",
       "      <td>0</td>\n",
       "      <td>0</td>\n",
       "      <td>...</td>\n",
       "      <td>0</td>\n",
       "      <td>0</td>\n",
       "      <td>0</td>\n",
       "      <td>0</td>\n",
       "      <td>0</td>\n",
       "      <td>0</td>\n",
       "      <td>0</td>\n",
       "      <td>0</td>\n",
       "      <td>0</td>\n",
       "      <td>0</td>\n",
       "    </tr>\n",
       "    <tr>\n",
       "      <th>4</th>\n",
       "      <td>0</td>\n",
       "      <td>0</td>\n",
       "      <td>0</td>\n",
       "      <td>0</td>\n",
       "      <td>0</td>\n",
       "      <td>0</td>\n",
       "      <td>0</td>\n",
       "      <td>0</td>\n",
       "      <td>0</td>\n",
       "      <td>0</td>\n",
       "      <td>...</td>\n",
       "      <td>0</td>\n",
       "      <td>0</td>\n",
       "      <td>0</td>\n",
       "      <td>0</td>\n",
       "      <td>0</td>\n",
       "      <td>0</td>\n",
       "      <td>0</td>\n",
       "      <td>0</td>\n",
       "      <td>0</td>\n",
       "      <td>0</td>\n",
       "    </tr>\n",
       "    <tr>\n",
       "      <th>...</th>\n",
       "      <td>...</td>\n",
       "      <td>...</td>\n",
       "      <td>...</td>\n",
       "      <td>...</td>\n",
       "      <td>...</td>\n",
       "      <td>...</td>\n",
       "      <td>...</td>\n",
       "      <td>...</td>\n",
       "      <td>...</td>\n",
       "      <td>...</td>\n",
       "      <td>...</td>\n",
       "      <td>...</td>\n",
       "      <td>...</td>\n",
       "      <td>...</td>\n",
       "      <td>...</td>\n",
       "      <td>...</td>\n",
       "      <td>...</td>\n",
       "      <td>...</td>\n",
       "      <td>...</td>\n",
       "      <td>...</td>\n",
       "      <td>...</td>\n",
       "    </tr>\n",
       "    <tr>\n",
       "      <th>41995</th>\n",
       "      <td>0</td>\n",
       "      <td>0</td>\n",
       "      <td>0</td>\n",
       "      <td>0</td>\n",
       "      <td>0</td>\n",
       "      <td>0</td>\n",
       "      <td>0</td>\n",
       "      <td>0</td>\n",
       "      <td>0</td>\n",
       "      <td>0</td>\n",
       "      <td>...</td>\n",
       "      <td>0</td>\n",
       "      <td>0</td>\n",
       "      <td>0</td>\n",
       "      <td>0</td>\n",
       "      <td>0</td>\n",
       "      <td>0</td>\n",
       "      <td>0</td>\n",
       "      <td>0</td>\n",
       "      <td>0</td>\n",
       "      <td>0</td>\n",
       "    </tr>\n",
       "    <tr>\n",
       "      <th>41996</th>\n",
       "      <td>1</td>\n",
       "      <td>0</td>\n",
       "      <td>0</td>\n",
       "      <td>0</td>\n",
       "      <td>0</td>\n",
       "      <td>0</td>\n",
       "      <td>0</td>\n",
       "      <td>0</td>\n",
       "      <td>0</td>\n",
       "      <td>0</td>\n",
       "      <td>...</td>\n",
       "      <td>0</td>\n",
       "      <td>0</td>\n",
       "      <td>0</td>\n",
       "      <td>0</td>\n",
       "      <td>0</td>\n",
       "      <td>0</td>\n",
       "      <td>0</td>\n",
       "      <td>0</td>\n",
       "      <td>0</td>\n",
       "      <td>0</td>\n",
       "    </tr>\n",
       "    <tr>\n",
       "      <th>41997</th>\n",
       "      <td>7</td>\n",
       "      <td>0</td>\n",
       "      <td>0</td>\n",
       "      <td>0</td>\n",
       "      <td>0</td>\n",
       "      <td>0</td>\n",
       "      <td>0</td>\n",
       "      <td>0</td>\n",
       "      <td>0</td>\n",
       "      <td>0</td>\n",
       "      <td>...</td>\n",
       "      <td>0</td>\n",
       "      <td>0</td>\n",
       "      <td>0</td>\n",
       "      <td>0</td>\n",
       "      <td>0</td>\n",
       "      <td>0</td>\n",
       "      <td>0</td>\n",
       "      <td>0</td>\n",
       "      <td>0</td>\n",
       "      <td>0</td>\n",
       "    </tr>\n",
       "    <tr>\n",
       "      <th>41998</th>\n",
       "      <td>6</td>\n",
       "      <td>0</td>\n",
       "      <td>0</td>\n",
       "      <td>0</td>\n",
       "      <td>0</td>\n",
       "      <td>0</td>\n",
       "      <td>0</td>\n",
       "      <td>0</td>\n",
       "      <td>0</td>\n",
       "      <td>0</td>\n",
       "      <td>...</td>\n",
       "      <td>0</td>\n",
       "      <td>0</td>\n",
       "      <td>0</td>\n",
       "      <td>0</td>\n",
       "      <td>0</td>\n",
       "      <td>0</td>\n",
       "      <td>0</td>\n",
       "      <td>0</td>\n",
       "      <td>0</td>\n",
       "      <td>0</td>\n",
       "    </tr>\n",
       "    <tr>\n",
       "      <th>41999</th>\n",
       "      <td>9</td>\n",
       "      <td>0</td>\n",
       "      <td>0</td>\n",
       "      <td>0</td>\n",
       "      <td>0</td>\n",
       "      <td>0</td>\n",
       "      <td>0</td>\n",
       "      <td>0</td>\n",
       "      <td>0</td>\n",
       "      <td>0</td>\n",
       "      <td>...</td>\n",
       "      <td>0</td>\n",
       "      <td>0</td>\n",
       "      <td>0</td>\n",
       "      <td>0</td>\n",
       "      <td>0</td>\n",
       "      <td>0</td>\n",
       "      <td>0</td>\n",
       "      <td>0</td>\n",
       "      <td>0</td>\n",
       "      <td>0</td>\n",
       "    </tr>\n",
       "  </tbody>\n",
       "</table>\n",
       "<p>42000 rows × 785 columns</p>\n",
       "</div>"
      ],
      "text/plain": [
       "       label  pixel0  pixel1  pixel2  pixel3  pixel4  pixel5  pixel6  pixel7  \\\n",
       "0          1       0       0       0       0       0       0       0       0   \n",
       "1          0       0       0       0       0       0       0       0       0   \n",
       "2          1       0       0       0       0       0       0       0       0   \n",
       "3          4       0       0       0       0       0       0       0       0   \n",
       "4          0       0       0       0       0       0       0       0       0   \n",
       "...      ...     ...     ...     ...     ...     ...     ...     ...     ...   \n",
       "41995      0       0       0       0       0       0       0       0       0   \n",
       "41996      1       0       0       0       0       0       0       0       0   \n",
       "41997      7       0       0       0       0       0       0       0       0   \n",
       "41998      6       0       0       0       0       0       0       0       0   \n",
       "41999      9       0       0       0       0       0       0       0       0   \n",
       "\n",
       "       pixel8  ...  pixel774  pixel775  pixel776  pixel777  pixel778  \\\n",
       "0           0  ...         0         0         0         0         0   \n",
       "1           0  ...         0         0         0         0         0   \n",
       "2           0  ...         0         0         0         0         0   \n",
       "3           0  ...         0         0         0         0         0   \n",
       "4           0  ...         0         0         0         0         0   \n",
       "...       ...  ...       ...       ...       ...       ...       ...   \n",
       "41995       0  ...         0         0         0         0         0   \n",
       "41996       0  ...         0         0         0         0         0   \n",
       "41997       0  ...         0         0         0         0         0   \n",
       "41998       0  ...         0         0         0         0         0   \n",
       "41999       0  ...         0         0         0         0         0   \n",
       "\n",
       "       pixel779  pixel780  pixel781  pixel782  pixel783  \n",
       "0             0         0         0         0         0  \n",
       "1             0         0         0         0         0  \n",
       "2             0         0         0         0         0  \n",
       "3             0         0         0         0         0  \n",
       "4             0         0         0         0         0  \n",
       "...         ...       ...       ...       ...       ...  \n",
       "41995         0         0         0         0         0  \n",
       "41996         0         0         0         0         0  \n",
       "41997         0         0         0         0         0  \n",
       "41998         0         0         0         0         0  \n",
       "41999         0         0         0         0         0  \n",
       "\n",
       "[42000 rows x 785 columns]"
      ]
     },
     "execution_count": 4,
     "metadata": {},
     "output_type": "execute_result"
    }
   ],
   "source": [
    "data"
   ]
  },
  {
   "cell_type": "code",
   "execution_count": null,
   "id": "c7b6ac1c",
   "metadata": {
    "papermill": {
     "duration": 0.004658,
     "end_time": "2025-03-18T04:21:46.726385",
     "exception": false,
     "start_time": "2025-03-18T04:21:46.721727",
     "status": "completed"
    },
    "tags": []
   },
   "outputs": [],
   "source": []
  },
  {
   "cell_type": "code",
   "execution_count": 5,
   "id": "84bcccfc",
   "metadata": {
    "execution": {
     "iopub.execute_input": "2025-03-18T04:21:46.738035Z",
     "iopub.status.busy": "2025-03-18T04:21:46.737647Z",
     "iopub.status.idle": "2025-03-18T04:21:47.567446Z",
     "shell.execute_reply": "2025-03-18T04:21:47.566120Z"
    },
    "papermill": {
     "duration": 0.838032,
     "end_time": "2025-03-18T04:21:47.569768",
     "exception": false,
     "start_time": "2025-03-18T04:21:46.731736",
     "status": "completed"
    },
    "tags": []
   },
   "outputs": [],
   "source": [
    "# data = np.array(data)\n",
    "# m, n = data.shape\n",
    "# np.random.shuffle(data)\n",
    "\n",
    "# data_dev =data[0:1000].T\n",
    "# Y_dev = data_dev[0]\n",
    "# X_dev = data_dev[1:n]\n",
    "\n",
    "\n",
    "# data_train = data[1000:m].T\n",
    "# Y_train = data_train[0]\n",
    "# X_train = data_train[1:n]\n",
    "data = np.array(data)\n",
    "m, n = data.shape\n",
    "np.random.shuffle(data)\n",
    "\n",
    "data_dev = data[0:1000].T\n",
    "Y_dev = data_dev[0]\n",
    "X_dev = data_dev[1:n]\n",
    "X_dev = X_dev / 255.\n",
    "\n",
    "data_train = data[1000:m].T\n",
    "Y_train = data_train[0]\n",
    "X_train = data_train[1:n]\n",
    "X_train = X_train / 255.\n",
    "_,m_train = X_train.shape"
   ]
  },
  {
   "cell_type": "code",
   "execution_count": 6,
   "id": "5b6e7f46",
   "metadata": {
    "execution": {
     "iopub.execute_input": "2025-03-18T04:21:47.583384Z",
     "iopub.status.busy": "2025-03-18T04:21:47.582874Z",
     "iopub.status.idle": "2025-03-18T04:21:47.589586Z",
     "shell.execute_reply": "2025-03-18T04:21:47.588013Z"
    },
    "papermill": {
     "duration": 0.015123,
     "end_time": "2025-03-18T04:21:47.591183",
     "exception": false,
     "start_time": "2025-03-18T04:21:47.576060",
     "status": "completed"
    },
    "tags": []
   },
   "outputs": [
    {
     "data": {
      "text/plain": [
       "(41000,)"
      ]
     },
     "execution_count": 6,
     "metadata": {},
     "output_type": "execute_result"
    }
   ],
   "source": [
    "X_train[0].shape"
   ]
  },
  {
   "cell_type": "code",
   "execution_count": 7,
   "id": "aa5046c6",
   "metadata": {
    "execution": {
     "iopub.execute_input": "2025-03-18T04:21:47.603642Z",
     "iopub.status.busy": "2025-03-18T04:21:47.603304Z",
     "iopub.status.idle": "2025-03-18T04:21:47.609113Z",
     "shell.execute_reply": "2025-03-18T04:21:47.608005Z"
    },
    "papermill": {
     "duration": 0.013739,
     "end_time": "2025-03-18T04:21:47.610692",
     "exception": false,
     "start_time": "2025-03-18T04:21:47.596953",
     "status": "completed"
    },
    "tags": []
   },
   "outputs": [
    {
     "data": {
      "text/plain": [
       "array([7, 6, 8, ..., 9, 2, 7])"
      ]
     },
     "execution_count": 7,
     "metadata": {},
     "output_type": "execute_result"
    }
   ],
   "source": [
    "Y_train"
   ]
  },
  {
   "cell_type": "code",
   "execution_count": 8,
   "id": "877328c4",
   "metadata": {
    "execution": {
     "iopub.execute_input": "2025-03-18T04:21:47.622910Z",
     "iopub.status.busy": "2025-03-18T04:21:47.622559Z",
     "iopub.status.idle": "2025-03-18T04:21:47.632257Z",
     "shell.execute_reply": "2025-03-18T04:21:47.631177Z"
    },
    "papermill": {
     "duration": 0.01767,
     "end_time": "2025-03-18T04:21:47.633900",
     "exception": false,
     "start_time": "2025-03-18T04:21:47.616230",
     "status": "completed"
    },
    "tags": []
   },
   "outputs": [],
   "source": [
    "def init_params():\n",
    "    W1 = np.random.rand(10, 784) - 0.5\n",
    "    b1 = np.random.rand(10, 1) - 0.5\n",
    "    W2 = np.random.rand(10, 10) - 0.5\n",
    "    b2 = np.random.rand(10, 1) - 0.5\n",
    "    return W1, b1, W2, b2\n",
    "\n",
    "def ReLU(Z):\n",
    "    return np.maximum(Z, 0)\n",
    "\n",
    "def softmax(Z):\n",
    "    A = np.exp(Z) / sum(np.exp(Z))\n",
    "    return A\n",
    "    \n",
    "def forward_prop(W1, b1, W2, b2, X):\n",
    "    Z1 = W1.dot(X) + b1\n",
    "    A1 = ReLU(Z1)\n",
    "    Z2 = W2.dot(A1) + b2\n",
    "    A2 = softmax(Z2)\n",
    "    return Z1, A1, Z2, A2\n",
    "\n",
    "def ReLU_deriv(Z):\n",
    "    return Z > 0\n",
    "\n",
    "def one_hot(Y):\n",
    "    one_hot_Y = np.zeros((Y.size, Y.max() + 1))\n",
    "    one_hot_Y[np.arange(Y.size), Y] = 1\n",
    "    one_hot_Y = one_hot_Y.T\n",
    "    return one_hot_Y\n",
    "\n",
    "def backward_prop(Z1, A1, Z2, A2, W1, W2, X, Y):\n",
    "    one_hot_Y = one_hot(Y)\n",
    "    dZ2 = A2 - one_hot_Y\n",
    "    dW2 = 1 / m * dZ2.dot(A1.T)\n",
    "    db2 = 1 / m * np.sum(dZ2)\n",
    "    dZ1 = W2.T.dot(dZ2) * ReLU_deriv(Z1)\n",
    "    dW1 = 1 / m * dZ1.dot(X.T)\n",
    "    db1 = 1 / m * np.sum(dZ1)\n",
    "    return dW1, db1, dW2, db2\n",
    "\n",
    "def update_params(W1, b1, W2, b2, dW1, db1, dW2, db2, alpha):\n",
    "    W1 = W1 - alpha * dW1\n",
    "    b1 = b1 - alpha * db1    \n",
    "    W2 = W2 - alpha * dW2  \n",
    "    b2 = b2 - alpha * db2    \n",
    "    return W1, b1, W2, b2\n"
   ]
  },
  {
   "cell_type": "code",
   "execution_count": 9,
   "id": "76bbf65f",
   "metadata": {
    "execution": {
     "iopub.execute_input": "2025-03-18T04:21:47.645563Z",
     "iopub.status.busy": "2025-03-18T04:21:47.645168Z",
     "iopub.status.idle": "2025-03-18T04:21:47.652058Z",
     "shell.execute_reply": "2025-03-18T04:21:47.650877Z"
    },
    "papermill": {
     "duration": 0.014705,
     "end_time": "2025-03-18T04:21:47.653909",
     "exception": false,
     "start_time": "2025-03-18T04:21:47.639204",
     "status": "completed"
    },
    "tags": []
   },
   "outputs": [],
   "source": [
    "def get_predictions(A2):\n",
    "    return np.argmax(A2, 0)\n",
    "\n",
    "def get_accuracy(predictions, Y):\n",
    "    print(predictions, Y)\n",
    "    return np.sum(predictions == Y) / Y.size\n",
    "\n",
    "def gradient_descent(X, Y, alpha, iterations):\n",
    "    W1, b1, W2, b2 = init_params()\n",
    "    for i in range(iterations):\n",
    "        Z1, A1, Z2, A2 = forward_prop(W1, b1, W2, b2, X)\n",
    "        dW1, db1, dW2, db2 = backward_prop(Z1, A1, Z2, A2, W1, W2, X, Y)\n",
    "        W1, b1, W2, b2 = update_params(W1, b1, W2, b2, dW1, db1, dW2, db2, alpha)\n",
    "        if i % 100 == 0:\n",
    "            print(\"Iteration: \", i)\n",
    "            predictions = get_predictions(A2)\n",
    "            print(\"accuracy: \", get_accuracy(predictions, Y))\n",
    "    return W1, b1, W2, b2\n"
   ]
  },
  {
   "cell_type": "code",
   "execution_count": 10,
   "id": "04b20f55",
   "metadata": {
    "execution": {
     "iopub.execute_input": "2025-03-18T04:21:47.665499Z",
     "iopub.status.busy": "2025-03-18T04:21:47.665115Z",
     "iopub.status.idle": "2025-03-18T04:22:25.558856Z",
     "shell.execute_reply": "2025-03-18T04:22:25.557722Z"
    },
    "papermill": {
     "duration": 37.901654,
     "end_time": "2025-03-18T04:22:25.560951",
     "exception": false,
     "start_time": "2025-03-18T04:21:47.659297",
     "status": "completed"
    },
    "tags": []
   },
   "outputs": [
    {
     "name": "stdout",
     "output_type": "stream",
     "text": [
      "Iteration:  0\n",
      "[3 2 5 ... 5 2 2] [7 6 8 ... 9 2 7]\n",
      "accuracy:  0.09658536585365854\n",
      "Iteration:  100\n",
      "[9 2 5 ... 9 6 7] [7 6 8 ... 9 2 7]\n",
      "accuracy:  0.6071707317073171\n",
      "Iteration:  200\n",
      "[9 6 8 ... 9 6 7] [7 6 8 ... 9 2 7]\n",
      "accuracy:  0.7581951219512195\n",
      "Iteration:  300\n",
      "[9 6 8 ... 9 2 7] [7 6 8 ... 9 2 7]\n",
      "accuracy:  0.8119756097560976\n",
      "Iteration:  400\n",
      "[9 6 8 ... 9 2 7] [7 6 8 ... 9 2 7]\n",
      "accuracy:  0.8372926829268292\n"
     ]
    }
   ],
   "source": [
    "W1, b1, W2, b2  = gradient_descent(X_train, Y_train, 0.10, 500)"
   ]
  },
  {
   "cell_type": "code",
   "execution_count": 11,
   "id": "3e6e8bae",
   "metadata": {
    "execution": {
     "iopub.execute_input": "2025-03-18T04:22:25.575687Z",
     "iopub.status.busy": "2025-03-18T04:22:25.575333Z",
     "iopub.status.idle": "2025-03-18T04:22:25.581577Z",
     "shell.execute_reply": "2025-03-18T04:22:25.580710Z"
    },
    "papermill": {
     "duration": 0.015384,
     "end_time": "2025-03-18T04:22:25.583318",
     "exception": false,
     "start_time": "2025-03-18T04:22:25.567934",
     "status": "completed"
    },
    "tags": []
   },
   "outputs": [],
   "source": [
    "def make_predictions(X, W1, b1, W2, b2):\n",
    "    _, _, _, A2 = forward_prop(W1, b1, W2, b2, X)\n",
    "    predictions = get_predictions(A2)\n",
    "    return predictions\n",
    "\n",
    "def test_prediction(index, W1, b1, W2, b2):\n",
    "    current_image = X_train[:, index, None]\n",
    "    prediction = make_predictions(X_train[:, index, None], W1, b1, W2, b2)\n",
    "    label = Y_train[index]\n",
    "    print(\"Prediction: \", prediction)\n",
    "    print(\"Label: \", label)\n",
    "    \n",
    "    current_image = current_image.reshape((28, 28)) * 255\n",
    "    plt.gray()\n",
    "    plt.imshow(current_image, interpolation='nearest')\n",
    "    plt.show()\n"
   ]
  },
  {
   "cell_type": "code",
   "execution_count": 12,
   "id": "19bc980c",
   "metadata": {
    "execution": {
     "iopub.execute_input": "2025-03-18T04:22:25.595152Z",
     "iopub.status.busy": "2025-03-18T04:22:25.594789Z",
     "iopub.status.idle": "2025-03-18T04:22:25.819372Z",
     "shell.execute_reply": "2025-03-18T04:22:25.818280Z"
    },
    "papermill": {
     "duration": 0.232179,
     "end_time": "2025-03-18T04:22:25.821001",
     "exception": false,
     "start_time": "2025-03-18T04:22:25.588822",
     "status": "completed"
    },
    "tags": []
   },
   "outputs": [
    {
     "name": "stdout",
     "output_type": "stream",
     "text": [
      "Prediction:  [9]\n",
      "Label:  7\n"
     ]
    },
    {
     "data": {
      "image/png": "[encoded data removed]",
      "text/plain": [
       "<Figure size 640x480 with 1 Axes>"
      ]
     },
     "metadata": {},
     "output_type": "display_data"
    }
   ],
   "source": [
    "test_prediction(0, W1, b1, W2, b2)"
   ]
  },
  {
   "cell_type": "code",
   "execution_count": 13,
   "id": "9025f163",
   "metadata": {
    "execution": {
     "iopub.execute_input": "2025-03-18T04:22:25.833780Z",
     "iopub.status.busy": "2025-03-18T04:22:25.833474Z",
     "iopub.status.idle": "2025-03-18T04:22:25.986192Z",
     "shell.execute_reply": "2025-03-18T04:22:25.985097Z"
    },
    "papermill": {
     "duration": 0.161035,
     "end_time": "2025-03-18T04:22:25.987908",
     "exception": false,
     "start_time": "2025-03-18T04:22:25.826873",
     "status": "completed"
    },
    "tags": []
   },
   "outputs": [
    {
     "name": "stdout",
     "output_type": "stream",
     "text": [
      "Prediction:  [6]\n",
      "Label:  6\n"
     ]
    },
    {
     "data": {
      "image/png": "[encoded data removed]",
      "text/plain": [
       "<Figure size 640x480 with 1 Axes>"
      ]
     },
     "metadata": {},
     "output_type": "display_data"
    }
   ],
   "source": [
    "test_prediction(1, W1, b1, W2, b2)"
   ]
  },
  {
   "cell_type": "code",
   "execution_count": 14,
   "id": "a5729105",
   "metadata": {
    "execution": {
     "iopub.execute_input": "2025-03-18T04:22:26.001156Z",
     "iopub.status.busy": "2025-03-18T04:22:26.000770Z",
     "iopub.status.idle": "2025-03-18T04:22:26.158443Z",
     "shell.execute_reply": "2025-03-18T04:22:26.157361Z"
    },
    "papermill": {
     "duration": 0.166336,
     "end_time": "2025-03-18T04:22:26.160246",
     "exception": false,
     "start_time": "2025-03-18T04:22:25.993910",
     "status": "completed"
    },
    "tags": []
   },
   "outputs": [
    {
     "name": "stdout",
     "output_type": "stream",
     "text": [
      "Prediction:  [8]\n",
      "Label:  8\n"
     ]
    },
    {
     "data": {
      "image/png": "[encoded data removed]",
      "text/plain": [
       "<Figure size 640x480 with 1 Axes>"
      ]
     },
     "metadata": {},
     "output_type": "display_data"
    }
   ],
   "source": [
    "test_prediction(2, W1, b1, W2, b2)"
   ]
  },
  {
   "cell_type": "code",
   "execution_count": 15,
   "id": "6ecabfcf",
   "metadata": {
    "execution": {
     "iopub.execute_input": "2025-03-18T04:22:26.173936Z",
     "iopub.status.busy": "2025-03-18T04:22:26.173620Z",
     "iopub.status.idle": "2025-03-18T04:22:26.323067Z",
     "shell.execute_reply": "2025-03-18T04:22:26.322003Z"
    },
    "papermill": {
     "duration": 0.158302,
     "end_time": "2025-03-18T04:22:26.324801",
     "exception": false,
     "start_time": "2025-03-18T04:22:26.166499",
     "status": "completed"
    },
    "tags": []
   },
   "outputs": [
    {
     "name": "stdout",
     "output_type": "stream",
     "text": [
      "Prediction:  [1]\n",
      "Label:  1\n"
     ]
    },
    {
     "data": {
      "image/png": "[encoded data removed]",
      "text/plain": [
       "<Figure size 640x480 with 1 Axes>"
      ]
     },
     "metadata": {},
     "output_type": "display_data"
    }
   ],
   "source": [
    "test_prediction(3, W1, b1, W2, b2)\n",
    "# test_prediction(4, W1, b1, W2, b2)\n",
    "# test_prediction(5, W1, b1, W2, b2)"
   ]
  },
  {
   "cell_type": "code",
   "execution_count": 16,
   "id": "64ce797d",
   "metadata": {
    "execution": {
     "iopub.execute_input": "2025-03-18T04:22:26.339596Z",
     "iopub.status.busy": "2025-03-18T04:22:26.339232Z",
     "iopub.status.idle": "2025-03-18T04:22:26.351275Z",
     "shell.execute_reply": "2025-03-18T04:22:26.349984Z"
    },
    "papermill": {
     "duration": 0.021502,
     "end_time": "2025-03-18T04:22:26.353010",
     "exception": false,
     "start_time": "2025-03-18T04:22:26.331508",
     "status": "completed"
    },
    "tags": []
   },
   "outputs": [
    {
     "name": "stdout",
     "output_type": "stream",
     "text": [
      "[6 8 6 7 8 0 8 0 9 1 0 7 0 7 4 6 2 3 5 3 5 8 3 6 1 0 1 2 7 9 3 8 1 4 9 4 8\n",
      " 3 2 2 5 6 3 3 3 9 0 2 4 4 6 3 6 1 4 6 7 9 9 3 3 7 0 3 0 4 0 0 9 8 8 6 9 3\n",
      " 5 0 5 7 7 1 1 6 4 3 6 1 1 8 9 1 4 9 0 1 0 7 7 5 9 9 5 6 8 8 5 1 4 6 1 6 0\n",
      " 3 3 6 2 3 3 0 2 0 0 3 0 5 2 9 6 1 4 3 1 3 8 0 9 6 8 8 2 8 4 2 3 7 8 4 2 6\n",
      " 9 1 5 3 5 5 9 0 1 3 2 0 1 4 1 2 2 0 1 3 2 8 0 2 7 0 1 0 2 1 2 2 1 0 0 8 6\n",
      " 6 3 7 1 4 4 1 7 1 0 1 6 1 8 4 7 5 4 5 7 1 0 1 9 2 6 4 4 7 2 7 9 5 4 1 3 7\n",
      " 9 1 0 2 2 0 4 6 7 7 3 6 8 1 0 6 8 9 8 1 3 5 1 8 8 7 7 9 7 5 9 3 8 5 0 1 0\n",
      " 3 5 2 6 2 3 9 1 2 1 8 9 6 6 4 9 9 1 3 2 0 5 9 5 8 1 9 8 1 5 3 7 2 4 9 6 1\n",
      " 7 0 0 1 9 1 7 8 2 4 8 1 3 1 5 4 7 5 5 4 0 1 4 7 5 1 7 0 7 6 0 5 4 9 5 0 6\n",
      " 8 9 8 8 2 7 1 9 6 7 2 5 1 2 1 3 4 2 7 2 0 8 5 8 1 9 1 1 5 7 1 9 6 5 7 1 7\n",
      " 6 1 8 3 7 0 6 8 4 9 8 4 1 7 0 2 2 5 7 6 2 2 2 1 8 0 0 2 4 2 8 3 4 6 1 2 0\n",
      " 1 7 6 2 8 7 1 5 1 0 3 3 2 3 0 4 2 4 6 5 9 9 4 9 0 3 3 4 6 2 8 9 3 6 3 0 1\n",
      " 0 3 3 6 9 1 4 6 3 6 7 9 2 7 4 7 1 2 7 4 5 7 1 2 7 9 3 9 2 3 4 9 2 1 1 1 0\n",
      " 9 9 6 6 0 6 8 8 9 4 5 0 5 3 7 7 1 2 7 8 8 8 2 6 4 6 4 6 5 5 2 1 5 8 5 3 3\n",
      " 4 9 9 1 1 7 8 2 4 2 0 9 8 7 0 1 0 6 6 9 1 1 5 8 7 2 5 1 5 9 1 0 6 3 7 2 2\n",
      " 7 6 4 0 1 6 7 7 2 0 4 4 9 5 9 2 5 1 7 6 1 1 7 0 8 2 2 3 0 9 1 2 0 8 3 2 3\n",
      " 7 1 7 2 0 3 7 8 6 2 2 7 5 1 1 6 7 5 0 6 6 7 2 2 9 1 1 8 1 7 7 7 3 0 7 6 9\n",
      " 6 9 9 9 8 7 8 4 0 0 6 9 0 6 8 1 3 1 0 9 5 5 2 9 4 1 9 4 3 7 8 0 6 9 7 4 9\n",
      " 7 1 6 8 6 9 4 1 2 9 6 6 9 8 3 3 9 3 1 9 5 9 5 5 0 6 8 7 8 3 6 3 8 5 3 1 6\n",
      " 2 5 2 2 2 7 7 4 4 7 1 3 6 0 0 8 1 1 6 8 0 7 1 2 9 8 1 7 3 1 9 7 9 1 4 1 7\n",
      " 4 1 7 4 0 3 0 4 9 5 1 8 2 4 5 1 7 2 5 0 3 9 7 9 8 7 1 7 0 6 8 9 4 3 0 4 4\n",
      " 1 5 2 3 5 5 1 7 7 6 3 2 3 3 9 6 1 7 6 5 4 0 6 8 9 4 3 1 0 7 0 9 4 5 5 9 7\n",
      " 5 1 3 8 7 7 0 4 6 2 8 2 3 6 0 2 7 3 2 0 9 7 0 4 7 9 8 3 7 9 0 4 7 1 3 7 7\n",
      " 8 8 7 8 3 2 9 0 3 8 5 7 9 3 8 1 8 1 0 4 2 1 1 8 4 5 9 5 7 2 7 1 7 5 4 1 8\n",
      " 9 7 3 9 2 2 1 6 0 1 4 9 0 3 1 5 8 7 9 4 7 4 5 9 7 1 3 9 1 7 5 3 3 5 5 1 6\n",
      " 9 6 0 7 2 5 6 7 8 9 7 0 6 6 7 4 7 0 6 8 0 7 5 1 1 7 0 0 5 1 3 7 2 1 3 7 7\n",
      " 0 6 8 1 2 3 2 3 9 5 5 3 6 8 4 9 1 3 0 4 2 4 0 1 3 7 3 1 9 7 8 7 6 8 1 0 6\n",
      " 0] [5 8 6 7 5 0 8 0 9 1 0 7 0 7 4 6 2 3 5 3 5 8 3 6 1 6 1 2 7 4 3 8 1 4 8 4 8\n",
      " 8 2 2 3 6 3 3 3 9 0 2 4 4 6 3 6 1 9 6 7 9 4 5 8 7 0 2 0 9 0 0 9 3 8 6 4 3\n",
      " 5 0 5 7 7 1 8 6 4 3 6 1 1 8 7 5 4 3 0 2 0 7 7 5 3 9 5 6 8 8 5 1 6 6 1 6 0\n",
      " 5 3 6 2 5 3 0 2 5 0 3 0 5 2 9 6 1 4 8 1 3 1 0 9 2 8 8 2 8 4 2 3 1 8 4 2 6\n",
      " 7 1 5 3 5 5 9 0 1 3 2 0 1 4 1 2 2 0 1 3 2 8 0 3 7 0 3 0 2 1 2 6 1 0 0 8 6\n",
      " 6 3 7 1 4 8 5 7 1 0 1 6 1 8 4 7 5 4 5 7 1 0 1 9 2 6 4 4 7 0 7 9 5 9 1 7 7\n",
      " 7 1 0 3 2 0 4 6 7 7 3 6 8 1 0 6 8 9 8 1 3 7 1 8 8 7 7 9 7 5 9 3 5 5 0 1 0\n",
      " 3 5 2 6 2 3 9 1 2 1 8 4 6 6 4 9 9 1 3 2 0 5 9 5 3 1 9 8 1 5 3 7 2 6 9 6 1\n",
      " 7 0 0 1 9 1 7 8 2 4 8 1 3 1 5 4 7 5 5 4 0 1 4 7 5 1 7 0 7 6 0 5 6 9 5 0 6\n",
      " 8 9 8 8 2 7 8 9 2 7 2 5 1 2 1 3 9 2 7 2 0 8 5 8 1 9 1 1 0 7 1 9 6 3 9 1 7\n",
      " 6 1 8 7 7 0 6 3 4 9 3 4 1 7 0 2 8 5 7 6 2 2 2 1 3 0 0 2 9 2 3 3 4 2 1 2 5\n",
      " 1 7 6 2 8 7 1 5 1 0 3 3 6 3 0 4 2 4 6 0 9 9 4 9 0 3 3 4 6 2 8 9 3 6 5 0 1\n",
      " 0 3 5 6 9 1 4 6 3 6 7 9 2 7 4 3 1 2 7 4 5 7 1 2 7 9 3 9 2 3 9 9 2 1 1 1 0\n",
      " 9 9 2 6 0 2 8 2 7 6 5 0 5 3 7 7 1 2 7 8 5 8 3 5 5 6 4 6 5 5 2 1 5 8 5 3 3\n",
      " 4 9 9 1 1 7 1 2 4 2 0 9 8 7 0 1 0 6 6 9 1 8 5 8 7 2 5 1 3 9 3 0 6 2 7 1 9\n",
      " 7 0 4 0 9 6 7 3 1 2 4 4 9 3 4 7 5 1 7 6 1 1 7 0 8 2 2 3 0 9 1 2 0 8 8 2 3\n",
      " 7 1 7 2 0 8 9 8 6 2 2 7 5 1 1 6 7 5 0 6 6 7 2 2 9 1 1 8 1 2 7 7 3 0 5 6 9\n",
      " 6 9 9 9 8 7 8 4 8 0 6 9 0 6 8 1 3 1 0 9 5 6 2 9 4 1 7 4 3 7 9 0 6 9 7 4 9\n",
      " 7 1 6 8 6 9 4 1 2 9 6 6 3 8 5 3 9 5 1 9 5 9 5 5 0 6 8 7 8 3 6 3 5 5 3 1 6\n",
      " 2 5 2 2 2 7 7 4 4 7 1 3 6 0 0 5 1 1 6 8 0 7 1 2 9 3 1 7 5 1 2 7 9 1 4 1 7\n",
      " 4 1 7 8 0 8 0 4 2 5 1 8 2 4 5 1 7 2 5 0 3 9 7 9 8 7 1 7 0 6 1 9 4 5 0 4 4\n",
      " 1 5 2 3 1 5 1 7 7 6 8 2 2 3 9 6 1 7 6 3 4 0 6 8 9 4 8 7 0 9 0 9 4 5 6 9 7\n",
      " 5 1 3 8 7 9 0 9 6 2 8 2 3 6 0 2 7 3 2 0 9 7 0 4 4 9 8 3 7 4 6 4 7 1 3 7 7\n",
      " 8 8 7 8 3 2 9 0 3 8 0 7 9 3 8 1 2 1 0 4 2 1 1 8 4 5 9 8 7 7 7 1 7 5 4 1 8\n",
      " 9 2 7 9 2 2 1 6 0 1 4 9 0 5 1 2 8 7 4 4 7 4 5 4 7 1 3 9 1 7 5 8 3 5 3 1 6\n",
      " 9 6 5 7 2 5 5 7 8 9 7 0 6 4 7 4 7 0 6 3 0 7 8 1 1 7 0 0 2 1 3 7 8 1 3 7 7\n",
      " 0 6 8 1 2 3 2 3 9 5 5 3 6 6 4 7 1 8 0 4 2 4 0 1 3 7 3 8 9 7 8 7 6 8 1 6 6\n",
      " 0]\n",
      "accuracy:  0.85\n"
     ]
    }
   ],
   "source": [
    "test_predictions = make_predictions(X_dev, W1, b1, W2, b2)\n",
    "# predictions = get_predictions(A2)\n",
    "print(\"accuracy: \", get_accuracy(test_predictions, Y_dev))\n"
   ]
  },
  {
   "cell_type": "code",
   "execution_count": null,
   "id": "9e874ff1",
   "metadata": {
    "papermill": {
     "duration": 0.006432,
     "end_time": "2025-03-18T04:22:26.366218",
     "exception": false,
     "start_time": "2025-03-18T04:22:26.359786",
     "status": "completed"
    },
    "tags": []
   },
   "outputs": [],
   "source": []
  },
  {
   "cell_type": "code",
   "execution_count": null,
   "id": "b162fe30",
   "metadata": {
    "papermill": {
     "duration": 0.007666,
     "end_time": "2025-03-18T04:22:26.380891",
     "exception": false,
     "start_time": "2025-03-18T04:22:26.373225",
     "status": "completed"
    },
    "tags": []
   },
   "outputs": [],
   "source": []
  }
 ],
 "metadata": {
  "kaggle": {
   "accelerator": "none",
   "dataSources": [
    {
     "databundleVersionId": 861823,
     "sourceId": 3004,
     "sourceType": "competition"
    }
   ],
   "dockerImageVersionId": 30918,
   "isGpuEnabled": false,
   "isInternetEnabled": true,
   "language": "python",
   "sourceType": "notebook"
  },
  "kernelspec": {
   "display_name": "Python 3",
   "language": "python",
   "name": "python3"
  },
  "language_info": {
   "codemirror_mode": {
    "name": "ipython",
    "version": 3
   },
   "file_extension": ".py",
   "mimetype": "text/x-python",
   "name": "python",
   "nbconvert_exporter": "python",
   "pygments_lexer": "ipython3",
   "version": "3.10.12"
  },
  "papermill": {
   "default_parameters": {},
   "duration": 47.434567,
   "end_time": "2025-03-18T04:22:27.007714",
   "environment_variables": {},
   "exception": null,
   "input_path": "__notebook__.ipynb",
   "output_path": "__notebook__.ipynb",
   "parameters": {},
   "start_time": "2025-03-18T04:21:39.573147",
   "version": "2.6.0"
  }
 },
 "nbformat": 4,
 "nbformat_minor": 5
}
