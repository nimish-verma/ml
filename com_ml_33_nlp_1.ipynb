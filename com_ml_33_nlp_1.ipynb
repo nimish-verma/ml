{
  "nbformat": 4,
  "nbformat_minor": 0,
  "metadata": {
    "colab": {
      "provenance": [],
      "authorship_tag": "ABX9TyPU+JNX1izgdYCGOFeD7mlH",
      "include_colab_link": true
    },
    "kernelspec": {
      "name": "python3",
      "display_name": "Python 3"
    },
    "language_info": {
      "name": "python"
    }
  },
  "cells": [
    {
      "cell_type": "markdown",
      "metadata": {
        "id": "view-in-github",
        "colab_type": "text"
      },
      "source": [
        "<a href=\"https://colab.research.google.com/github/nimish-verma/ml/blob/main/com_ml_33_nlp_1.ipynb\" target=\"_parent\"><img src=\"https://colab.research.google.com/assets/colab-badge.svg\" alt=\"Open In Colab\"/></a>"
      ]
    },
    {
      "cell_type": "code",
      "source": [
        "!pip install nltk\n",
        "\n",
        "import nltk\n",
        "nltk.download('punkt_tab')"
      ],
      "metadata": {
        "colab": {
          "base_uri": "https://localhost:8080/"
        },
        "id": "mSqct6sAR-lc",
        "outputId": "64a692a2-f6d7-4eb4-e0df-ce1cf279bf22"
      },
      "execution_count": null,
      "outputs": [
        {
          "output_type": "stream",
          "name": "stdout",
          "text": [
            "Requirement already satisfied: nltk in /usr/local/lib/python3.11/dist-packages (3.9.1)\n",
            "Requirement already satisfied: click in /usr/local/lib/python3.11/dist-packages (from nltk) (8.1.8)\n",
            "Requirement already satisfied: joblib in /usr/local/lib/python3.11/dist-packages (from nltk) (1.4.2)\n",
            "Requirement already satisfied: regex>=2021.8.3 in /usr/local/lib/python3.11/dist-packages (from nltk) (2024.11.6)\n",
            "Requirement already satisfied: tqdm in /usr/local/lib/python3.11/dist-packages (from nltk) (4.67.1)\n"
          ]
        },
        {
          "output_type": "stream",
          "name": "stderr",
          "text": [
            "[nltk_data] Downloading package punkt_tab to /root/nltk_data...\n",
            "[nltk_data]   Unzipping tokenizers/punkt_tab.zip.\n"
          ]
        },
        {
          "output_type": "execute_result",
          "data": {
            "text/plain": [
              "True"
            ]
          },
          "metadata": {},
          "execution_count": 1
        }
      ]
    },
    {
      "cell_type": "code",
      "source": [
        "corpus = \"\"\"\n",
        "Hello, welcome to nimish verma best youtube videos. Here we gon see a lot of shit!\n",
        "Arent you reeady nigga? PULL UP!\n",
        "\"\"\"\n",
        "# corpus"
      ],
      "metadata": {
        "id": "AHBau3gDSDnw"
      },
      "execution_count": null,
      "outputs": []
    },
    {
      "cell_type": "code",
      "source": [
        "#tokenization\n",
        "# convert para to sentence\n",
        "from nltk.tokenize import sent_tokenize\n",
        "documents = sent_tokenize(corpus)"
      ],
      "metadata": {
        "id": "zMyLD0N-SW04"
      },
      "execution_count": null,
      "outputs": []
    },
    {
      "cell_type": "code",
      "source": [
        "documents"
      ],
      "metadata": {
        "id": "n5tHKnOhSl4t",
        "colab": {
          "base_uri": "https://localhost:8080/"
        },
        "outputId": "4c8bc7bf-e011-4fe6-8a8c-0910b83acd01"
      },
      "execution_count": null,
      "outputs": [
        {
          "output_type": "execute_result",
          "data": {
            "text/plain": [
              "['\\nHello, welcome to nimish verma best youtube videos.',\n",
              " 'Here we gon see a lot of shit!',\n",
              " 'Arent you reeady nigga?',\n",
              " 'PULL UP!']"
            ]
          },
          "metadata": {},
          "execution_count": 5
        }
      ]
    },
    {
      "cell_type": "code",
      "source": [
        "type(documents)"
      ],
      "metadata": {
        "colab": {
          "base_uri": "https://localhost:8080/"
        },
        "id": "6b5KSMQqIlIx",
        "outputId": "81fdc123-2cb2-43b6-e48b-727fb49cd424"
      },
      "execution_count": null,
      "outputs": [
        {
          "output_type": "execute_result",
          "data": {
            "text/plain": [
              "list"
            ]
          },
          "metadata": {},
          "execution_count": 6
        }
      ]
    },
    {
      "cell_type": "code",
      "source": [
        "for sentence in documents:\n",
        "  print(sentence)"
      ],
      "metadata": {
        "colab": {
          "base_uri": "https://localhost:8080/"
        },
        "id": "igEl-pt4ImkE",
        "outputId": "344b9c45-7251-438f-eec1-9cdca4a718d4"
      },
      "execution_count": null,
      "outputs": [
        {
          "output_type": "stream",
          "name": "stdout",
          "text": [
            "\n",
            "Hello, welcome to nimish verma best youtube videos.\n",
            "Here we gon see a lot of shit!\n",
            "Arent you reeady nigga?\n",
            "PULL UP!\n"
          ]
        }
      ]
    },
    {
      "cell_type": "code",
      "source": [
        "###Tokenization\n",
        "## para >> words\n",
        "## sentence >> words"
      ],
      "metadata": {
        "id": "tPxs49h1IpfL"
      },
      "execution_count": null,
      "outputs": []
    },
    {
      "cell_type": "code",
      "source": [
        "from nltk.tokenize import word_tokenize\n",
        "\n",
        "word_tokenize(corpus)\n",
        "\n",
        "# done in order to find the important words, to ensure clean data for data preprocessing"
      ],
      "metadata": {
        "id": "M1G4NeY4I41G",
        "colab": {
          "base_uri": "https://localhost:8080/"
        },
        "outputId": "371164da-199a-4954-8142-4b0b8fe1d2bb"
      },
      "execution_count": 14,
      "outputs": [
        {
          "output_type": "execute_result",
          "data": {
            "text/plain": [
              "['Hello',\n",
              " ',',\n",
              " 'welcome',\n",
              " 'to',\n",
              " 'nimish',\n",
              " 'verma',\n",
              " 'best',\n",
              " 'youtube',\n",
              " 'videos',\n",
              " '.',\n",
              " 'Here',\n",
              " 'we',\n",
              " 'gon',\n",
              " 'see',\n",
              " 'a',\n",
              " 'lot',\n",
              " 'of',\n",
              " 'shit',\n",
              " '!',\n",
              " 'Arent',\n",
              " 'you',\n",
              " 'reeady',\n",
              " 'nigga',\n",
              " '?',\n",
              " 'PULL',\n",
              " 'UP',\n",
              " '!']"
            ]
          },
          "metadata": {},
          "execution_count": 14
        }
      ]
    },
    {
      "cell_type": "code",
      "source": [
        "for sentence in documents:\n",
        "  print(word_tokenize(sentence))"
      ],
      "metadata": {
        "colab": {
          "base_uri": "https://localhost:8080/"
        },
        "id": "VELWwJ4LJYA0",
        "outputId": "c1b90104-9367-4406-e75e-ea58c40068a5"
      },
      "execution_count": 15,
      "outputs": [
        {
          "output_type": "stream",
          "name": "stdout",
          "text": [
            "['Hello', ',', 'welcome', 'to', 'nimish', 'verma', 'best', 'youtube', 'videos', '.']\n",
            "['Here', 'we', 'gon', 'see', 'a', 'lot', 'of', 'shit', '!']\n",
            "['Arent', 'you', 'reeady', 'nigga', '?']\n",
            "['PULL', 'UP', '!']\n"
          ]
        }
      ]
    },
    {
      "cell_type": "code",
      "source": [
        "from nltk.tokenize import wordpunct_tokenize\n",
        "\n",
        "wordpunct_tokenize(corpus)"
      ],
      "metadata": {
        "colab": {
          "base_uri": "https://localhost:8080/"
        },
        "id": "puzcZQX8J4hY",
        "outputId": "bae0d4bb-52f7-458a-df53-c91641e8fd0e"
      },
      "execution_count": 16,
      "outputs": [
        {
          "output_type": "execute_result",
          "data": {
            "text/plain": [
              "['Hello',\n",
              " ',',\n",
              " 'welcome',\n",
              " 'to',\n",
              " 'nimish',\n",
              " 'verma',\n",
              " 'best',\n",
              " 'youtube',\n",
              " 'videos',\n",
              " '.',\n",
              " 'Here',\n",
              " 'we',\n",
              " 'gon',\n",
              " 'see',\n",
              " 'a',\n",
              " 'lot',\n",
              " 'of',\n",
              " 'shit',\n",
              " '!',\n",
              " 'Arent',\n",
              " 'you',\n",
              " 'reeady',\n",
              " 'nigga',\n",
              " '?',\n",
              " 'PULL',\n",
              " 'UP',\n",
              " '!']"
            ]
          },
          "metadata": {},
          "execution_count": 16
        }
      ]
    },
    {
      "cell_type": "code",
      "source": [
        "from nltk.tokenize import TreebankWordTokenizer\n",
        "tokenizer1 = TreebankWordTokenizer()\n",
        "tokenizer1.tokenize(corpus)\n",
        "\n",
        "# full stop is not treated as a sepearate word, itll be included in the previous word"
      ],
      "metadata": {
        "colab": {
          "base_uri": "https://localhost:8080/"
        },
        "id": "f0hgfgljKAPP",
        "outputId": "addd253a-356c-46cd-e586-087c29f69a0b"
      },
      "execution_count": 19,
      "outputs": [
        {
          "output_type": "execute_result",
          "data": {
            "text/plain": [
              "['Hello',\n",
              " ',',\n",
              " 'welcome',\n",
              " 'to',\n",
              " 'nimish',\n",
              " 'verma',\n",
              " 'best',\n",
              " 'youtube',\n",
              " 'videos.',\n",
              " 'Here',\n",
              " 'we',\n",
              " 'gon',\n",
              " 'see',\n",
              " 'a',\n",
              " 'lot',\n",
              " 'of',\n",
              " 'shit',\n",
              " '!',\n",
              " 'Arent',\n",
              " 'you',\n",
              " 'reeady',\n",
              " 'nigga',\n",
              " '?',\n",
              " 'PULL',\n",
              " 'UP',\n",
              " '!']"
            ]
          },
          "metadata": {},
          "execution_count": 19
        }
      ]
    },
    {
      "cell_type": "code",
      "source": [],
      "metadata": {
        "id": "GYmlfsyTKQtB"
      },
      "execution_count": null,
      "outputs": []
    }
  ]
}